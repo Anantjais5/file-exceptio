{
 "cells": [
  {
   "cell_type": "code",
   "execution_count": 21,
   "id": "ce1e11e1-2014-4f18-bfea-44652e404068",
   "metadata": {},
   "outputs": [],
   "source": [
    "#1 Discuss the scenarios where multithreading is preferable to multiprocessing and scenarios where multiprocessing is a better choice.\n",
    "\n",
    "\n",
    "\n",
    "#multithreading is preferable to multiprocessing because: \n",
    "\n",
    "#Switching between threads is fast and efficient. Itis very fast to generate new threads with exist process instead of creating a new process.\n",
    "#Multithreading is ideal for tasks that require frequent access\n",
    "#multithreading is best for task that are part of some application and need to share data resources.\n",
    "#it will run concurrently (GIL): At a point only one thrad will be executed.\n",
    "\n",
    "\n",
    "\n",
    "#scenarios where multiprocessing is a better choice:\n",
    "#multi processor are there in which it has its own memory space which are isolated from process.\n",
    "#it is trully parallel in multiple CPU cores.\n",
    "#Can take advantage of multiple CPU cores, as each process can run on a separate core Suitable for CPU-bound tasks.\n",
    "#Processes are more isolated, providing better fault isolation. If one process crashes, it does not necessarily affect others.\n",
    "#parallel execution\n",
    "#faster task execution.\n",
    "#Fault isolation is critical: Multiprocessing is preferable when fault isolation is critical\n"
   ]
  },
  {
   "cell_type": "code",
   "execution_count": 22,
   "id": "4b3c32c4-498c-45c0-9807-5fd8bb426285",
   "metadata": {},
   "outputs": [],
   "source": [
    "#2. Describe what a process pool is and how it helps in managing multiple processes efficiently.\n",
    "\n",
    "\n",
    "#pool allows us to do multiple works in a process which make easier to parallelize the program.\n",
    "#you can effectively manage multiple processes, improve performance, and simplify the implementation of parallel tasks.\n",
    "#the pool distributes the tasks to the available processors using a FIFO: First In First Out.\n",
    "\n",
    "\n",
    "#how it helps in managing multiple processes efficiently.\n",
    "#by distributting the work load in multiplrprocessor. \n",
    "#each task submitted to the process pool may be a different target function\n",
    "\n",
    " \n",
    " \n",
    " "
   ]
  },
  {
   "cell_type": "code",
   "execution_count": 23,
   "id": "160b75c0-5cff-4415-96ec-2443f904cb7f",
   "metadata": {},
   "outputs": [],
   "source": [
    "# 3.Explain what multiprocessing is and why it is used in Python programs.\n",
    "\n",
    "#Multiprocessing is a programming and execution model that involves the concurrent execution of multiple processes.\n",
    "#A process is an independent program that runs in its own memory space and has its own resources. In multiprocessing, multiple processes run concurrently, \n",
    "#each with its own set of instructions and data.\n",
    "#These processes can communicate with each other through inter-process communication (IPC) mechanisms.\n",
    "\n",
    "\n",
    "#multiprocessing is a valuable tool for improving performance and responsiveness in Python programs, especially for CPU-intensive tasks and independent tasks.\n",
    "\n",
    "\n"
   ]
  },
  {
   "cell_type": "code",
   "execution_count": 24,
   "id": "ea0bec69-fde1-4b3f-9eee-fa9e6871e39c",
   "metadata": {},
   "outputs": [
    {
     "name": "stdout",
     "output_type": "stream",
     "text": [
      "Added: 0\n",
      "Removed: 0\n",
      "Added: 1\n",
      "Removed: 1\n",
      "Added: 2\n",
      "Removed: 2\n",
      "Added: 3\n",
      "Removed: 3\n",
      "Added: 4\n",
      "Removed: 4\n",
      "Added: 5\n",
      "Removed: 5\n",
      "Added: 6\n",
      "Removed: 6\n",
      "Added: 7\n",
      "Removed: 7\n",
      "Added: 8\n",
      "Removed: 8\n",
      "Added: 9\n",
      "Removed: 9\n"
     ]
    }
   ],
   "source": [
    "#4. Write a Python program using multithreading where one thread adds numbers to a list, and another thread removes numbers from the list.\n",
    "#Implement a mechanism to avoid race conditions using threading.Lock\n",
    "import threading\n",
    "import time\n",
    "\n",
    "def add_numbers(numbers, lock):\n",
    "    for i in range(10):\n",
    "        with lock:\n",
    "            numbers.append(i)\n",
    "            print(\"Added:\", i)\n",
    "        time.sleep(0.1)\n",
    "\n",
    "def remove_numbers(numbers, lock):\n",
    "    for i in range(10):\n",
    "        with lock:\n",
    "            if numbers:\n",
    "                removed = numbers.pop(0)\n",
    "                print(\"Removed:\", removed)\n",
    "            else:\n",
    "                print(\"List is empty.\")\n",
    "        time.sleep(0.1)\n",
    "\n",
    "if __name__ == \"__main__\":\n",
    "    numbers = []\n",
    "    lock = threading.Lock()\n",
    "\n",
    "    thread1 = threading.Thread(target=add_numbers, args=(numbers, lock))\n",
    "    thread2 = threading.Thread(target=remove_numbers, args=(numbers, lock))\n",
    "\n",
    "    thread1.start()\n",
    "    thread2.start()\n",
    "\n",
    "    thread1.join()\n",
    "    thread2.join()\n"
   ]
  },
  {
   "cell_type": "code",
   "execution_count": 25,
   "id": "5697310b-db37-490c-b8e2-807c870c568d",
   "metadata": {},
   "outputs": [],
   "source": [
    "#5. Describe the methods and tools available in Python for safely sharing data between threads and processes.\n",
    "#Queues\n",
    "#Locks and Semaphores\n",
    "#Shared Variables\n",
    "\n",
    "#queue:  A thread-safe queue that can be used to communicate between threads or processes. "
   ]
  },
  {
   "cell_type": "code",
   "execution_count": 26,
   "id": "3bf35fae-0e04-42a4-bee9-291289ea5ef2",
   "metadata": {},
   "outputs": [],
   "source": [
    "#6. Discuss why it’s crucial to handle exceptions in concurrent programs and the techniques available for doing so.\n",
    "\n",
    "#it is crucial because every code which is risky and suspicious you have to handle the code.\n",
    "#handlin exception is imp part of programming specially for cocurent program because it helps ensure that program run in smoothly and didnt terminnate unexpectedly.\n",
    "\n",
    "#exception handling allows the programs to run cotiniously t execute the program finally even if there has an error occurs in a program."
   ]
  },
  {
   "cell_type": "code",
   "execution_count": 27,
   "id": "ea383462-ef23-4ed5-b2ca-cb1be56368ff",
   "metadata": {},
   "outputs": [
    {
     "name": "stdout",
     "output_type": "stream",
     "text": [
      "the factorial of 1: 1\n",
      "the factorial of 2: 2\n",
      "the factorial of 3: 6\n",
      "the factorial of 4: 24\n",
      "the factorial of 5: 120\n",
      "the factorial of 6: 720\n",
      "the factorial of 7: 5040\n",
      "the factorial of 8: 40320\n",
      "the factorial of 9: 362880\n"
     ]
    }
   ],
   "source": [
    "#7. Create a program that uses a thread pool to calculate the factorial of numbers from 1 to 10 concurrently. \n",
    "#Use concurrent.futures.ThreadPoolExecutor to manage the threads.\n",
    "\n",
    "\n",
    "import concurrent.futures\n",
    "import time\n",
    "\n",
    "def fact(n):\n",
    "    if n == 0:\n",
    "        return 1\n",
    "    else:\n",
    "        return n * fact(n - 1)\n",
    "\n",
    "if __name__ == \"__main__\":\n",
    "    num = range(1, 10)\n",
    "\n",
    "    with concurrent.futures.ThreadPoolExecutor() as executor:\n",
    "        results = executor.map(fact, num)\n",
    "\n",
    "    for n, result in zip(num, results):\n",
    "        print(f\"the factorial of {n}: {result}\")"
   ]
  },
  {
   "cell_type": "code",
   "execution_count": 28,
   "id": "4758d56e-2edc-40da-9eb8-d2706f1d2029",
   "metadata": {},
   "outputs": [
    {
     "name": "stdout",
     "output_type": "stream",
     "text": [
      "Using 2 processes, execution time: 0.031 seconds\n",
      "Using 4 processes, execution time: 0.045 seconds\n",
      "Using 8 processes, execution time: 0.076 seconds\n"
     ]
    }
   ],
   "source": [
    "#8Create a Python program that uses multiprocessing.Pool to compute the square of numbers from 1 to 10 in parallel. Measure the time taken to perform this computation using a pool of different sizes (e.g., 2, 4, 8 processes).\n",
    "\n",
    "import multiprocessing\n",
    "import time\n",
    "\n",
    "def square(x):\n",
    "    return x * x\n",
    "\n",
    "def main():\n",
    "    num = range(1, 11)\n",
    "\n",
    "    for nums in [2, 4, 8]:\n",
    "        start_time = time.time()\n",
    "\n",
    "        with multiprocessing.Pool(processes=nums) as pool:\n",
    "            results = pool.map(square, num)\n",
    "\n",
    "        end_time = time.time()\n",
    "        execution_time = end_time - start_time\n",
    "        print(f\"Using {nums} processes, execution time: {execution_time:.3f} seconds\")\n",
    "\n",
    "if __name__ == \"__main__\":\n",
    "    main()"
   ]
  },
  {
   "cell_type": "code",
   "execution_count": null,
   "id": "92c5e816-feec-43c2-be9e-51dffbeb26bc",
   "metadata": {},
   "outputs": [],
   "source": []
  }
 ],
 "metadata": {
  "kernelspec": {
   "display_name": "Python 3 (ipykernel)",
   "language": "python",
   "name": "python3"
  },
  "language_info": {
   "codemirror_mode": {
    "name": "ipython",
    "version": 3
   },
   "file_extension": ".py",
   "mimetype": "text/x-python",
   "name": "python",
   "nbconvert_exporter": "python",
   "pygments_lexer": "ipython3",
   "version": "3.10.8"
  }
 },
 "nbformat": 4,
 "nbformat_minor": 5
}
